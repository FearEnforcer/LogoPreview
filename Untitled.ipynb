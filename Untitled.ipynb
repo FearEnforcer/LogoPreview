{
 "cells": [
  {
   "cell_type": "code",
   "execution_count": 1,
   "id": "f1bc36d1-548e-40d7-a0ca-923ada1e8d5a",
   "metadata": {},
   "outputs": [],
   "source": [
    "import ipywidgets as widgets"
   ]
  },
  {
   "cell_type": "code",
   "execution_count": 2,
   "id": "3fdea3bc-4ede-4d13-9fda-318c132661f6",
   "metadata": {},
   "outputs": [],
   "source": [
    "def f(x):\n",
    "    x=x*2\n",
    "    return x\n"
   ]
  },
  {
   "cell_type": "code",
   "execution_count": 3,
   "id": "afb4d672-a16f-44be-905d-de10d24fc15f",
   "metadata": {},
   "outputs": [
    {
     "data": {
      "application/vnd.jupyter.widget-view+json": {
       "model_id": "89cd253ef99c4a608b6b2406a0fa0e8f",
       "version_major": 2,
       "version_minor": 0
      },
      "text/plain": [
       "interactive(children=(IntSlider(value=10, description='x', max=30, min=-10), Output()), _dom_classes=('widget-…"
      ]
     },
     "metadata": {},
     "output_type": "display_data"
    }
   ],
   "source": [
    "background = widgets.ColorPicker(\n",
    "    concise=True,\n",
    "    description='Background:',\n",
    ")\n",
    "\n",
    "foreground = widgets.ColorPicker(\n",
    "    concise=True,\n",
    "    description='Foreground:',\n",
    ")\n",
    "\n",
    "slider = widgets.interact(f, x=10)\n",
    "\n",
    "\n",
    "\n"
   ]
  },
  {
   "cell_type": "code",
   "execution_count": 4,
   "id": "0fbe05c9-1427-4b7d-92be-c02fa142dda6",
   "metadata": {},
   "outputs": [
    {
     "data": {
      "application/vnd.jupyter.widget-view+json": {
       "model_id": "e551e02b780a42dcb0881a9904bd127e",
       "version_major": 2,
       "version_minor": 0
      },
      "text/plain": [
       "FileUpload(value=(), description='Upload')"
      ]
     },
     "execution_count": 4,
     "metadata": {},
     "output_type": "execute_result"
    }
   ],
   "source": [
    "svgToEdit = widgets.FileUpload(\n",
    "accept='',\n",
    "multiple=False\n",
    ")\n",
    "svgToEdit"
   ]
  },
  {
   "cell_type": "code",
   "execution_count": 34,
   "id": "7c1e2886-1746-4d2b-9fd0-e9f52d5c1792",
   "metadata": {},
   "outputs": [
    {
     "data": {
      "application/vnd.jupyter.widget-view+json": {
       "model_id": "f5a2773500814e619a573f40468c7b69",
       "version_major": 2,
       "version_minor": 0
      },
      "text/plain": [
       "Box(children=(Label(value='Pizza topping with a very long label:'), RadioButtons(layout=Layout(width='max-cont…"
      ]
     },
     "execution_count": 34,
     "metadata": {},
     "output_type": "execute_result"
    }
   ],
   "source": [
    "\n",
    "label1 = widgets.Label(value='Pizza topping with a very long label:') \n",
    "radio1 = widgets.RadioButtons(\n",
    "            options=[\n",
    "                'pepperoni', \n",
    "                'pineapple', \n",
    "                'anchovies', \n",
    "                'and the long name that will fit fine and the long name that will fit fine and the long name that will fit fine '\n",
    "            ],\n",
    "            layout={'width': 'max-content'})\n",
    "widgets.Box(\n",
    "    [\n",
    "        label1,\n",
    "        radio1\n",
    "        \n",
    "    ]\n",
    ")"
   ]
  },
  {
   "cell_type": "code",
   "execution_count": 36,
   "id": "f75d9602-3812-426e-be4b-73e2b08902b3",
   "metadata": {},
   "outputs": [
    {
     "data": {
      "application/vnd.jupyter.widget-view+json": {
       "model_id": "7d88cd4a863f4d90aedc59240d8bcbde",
       "version_major": 2,
       "version_minor": 0
      },
      "text/plain": [
       "GridBox(children=(Label(value='Pizza topping with a very long label:'), RadioButtons(layout=Layout(width='max-…"
      ]
     },
     "execution_count": 36,
     "metadata": {},
     "output_type": "execute_result"
    }
   ],
   "source": [
    "items = [ label1,radio1 ]\n",
    "widgets.GridBox(items, layout=widgets.Layout(grid_template_columns=\"repeat(1, 500px)\"))"
   ]
  },
  {
   "cell_type": "code",
   "execution_count": 33,
   "id": "97c34ad2-bcfd-401a-a942-325781062807",
   "metadata": {},
   "outputs": [
    {
     "data": {
      "text/plain": [
       "'a2'"
      ]
     },
     "execution_count": 33,
     "metadata": {},
     "output_type": "execute_result"
    }
   ],
   "source": [
    "import pandas as pd\n",
    "\n",
    "\n",
    "df = pd.read_excel('test.xlsx')\n",
    "\n",
    "Order_List  = df.iloc[:, 0][2]\n",
    "\n",
    "Order_List"
   ]
  },
  {
   "cell_type": "code",
   "execution_count": 38,
   "id": "3a8fb860-1f66-485c-bbd9-adbb00f95424",
   "metadata": {},
   "outputs": [
    {
     "data": {
      "application/vnd.jupyter.widget-view+json": {
       "model_id": "3d0fe79a59894ecaaf8509c80f5005cd",
       "version_major": 2,
       "version_minor": 0
      },
      "text/plain": [
       "GridBox(children=(Label(value='Która z podanych odpowiedzi nie jest owocem?\\n'), RadioButtons(layout=Layout(wi…"
      ]
     },
     "execution_count": 38,
     "metadata": {},
     "output_type": "execute_result"
    }
   ],
   "source": [
    "lista1 = [\"Która z podanych odpowiedzi nie jest owocem?\", \"Kalafior\", \"Ziemniak\", \"Ananas\", \"Rzepa\", 3]\n",
    "\n",
    "pytanie = widgets.Label(value= lista1[0]+ \"\\n\")\n",
    "\n",
    "odpowiedz = widgets.RadioButtons(\n",
    "    options=[\n",
    "        lista1[1], \n",
    "        lista1[2], \n",
    "        lista1[3], \n",
    "        lista1[4]\n",
    "    ],\n",
    "    layout={'width': 'max-content'}\n",
    "\n",
    ")\n",
    "\n",
    "items = [pytanie, odpowiedz]\n",
    "widgets.GridBox(items, layout=widgets.Layout(grid_template_columns=\"repeat(1, 500px)\"))"
   ]
  },
  {
   "cell_type": "code",
   "execution_count": null,
   "id": "3499796c-7eb2-498d-90ee-0b46d41935e8",
   "metadata": {},
   "outputs": [],
   "source": []
  }
 ],
 "metadata": {
  "kernelspec": {
   "display_name": "Python 3 (ipykernel)",
   "language": "python",
   "name": "python3"
  },
  "language_info": {
   "codemirror_mode": {
    "name": "ipython",
    "version": 3
   },
   "file_extension": ".py",
   "mimetype": "text/x-python",
   "name": "python",
   "nbconvert_exporter": "python",
   "pygments_lexer": "ipython3",
   "version": "3.13.1"
  }
 },
 "nbformat": 4,
 "nbformat_minor": 5
}
